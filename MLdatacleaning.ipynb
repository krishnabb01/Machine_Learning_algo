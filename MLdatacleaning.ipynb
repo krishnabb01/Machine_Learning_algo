{
 "cells": [
  {
   "cell_type": "code",
   "execution_count": 1,
   "metadata": {},
   "outputs": [],
   "source": [
    "import pandas as pd\n",
    "import numpy as np"
   ]
  },
  {
   "cell_type": "code",
   "execution_count": 2,
   "metadata": {},
   "outputs": [
    {
     "data": {
      "text/html": [
       "<div>\n",
       "<style scoped>\n",
       "    .dataframe tbody tr th:only-of-type {\n",
       "        vertical-align: middle;\n",
       "    }\n",
       "\n",
       "    .dataframe tbody tr th {\n",
       "        vertical-align: top;\n",
       "    }\n",
       "\n",
       "    .dataframe thead th {\n",
       "        text-align: right;\n",
       "    }\n",
       "</style>\n",
       "<table border=\"1\" class=\"dataframe\">\n",
       "  <thead>\n",
       "    <tr style=\"text-align: right;\">\n",
       "      <th></th>\n",
       "      <th>Age</th>\n",
       "      <th>Gender</th>\n",
       "      <th>PreExistingConditions</th>\n",
       "      <th>VaccineAvailability</th>\n",
       "      <th>Vaccinated</th>\n",
       "      <th>Vaccined Factor</th>\n",
       "      <th>Vaccined Factor_2</th>\n",
       "      <th>Vaccined Factor_3</th>\n",
       "      <th>Vaccined Factor_4</th>\n",
       "    </tr>\n",
       "  </thead>\n",
       "  <tbody>\n",
       "    <tr>\n",
       "      <th>0</th>\n",
       "      <td>50.767845</td>\n",
       "      <td>Male</td>\n",
       "      <td>No</td>\n",
       "      <td>Available</td>\n",
       "      <td>1</td>\n",
       "      <td>0.592771</td>\n",
       "      <td>0.079213</td>\n",
       "      <td>0.477877</td>\n",
       "      <td>0.602102</td>\n",
       "    </tr>\n",
       "    <tr>\n",
       "      <th>1</th>\n",
       "      <td>33.869180</td>\n",
       "      <td>Male</td>\n",
       "      <td>No</td>\n",
       "      <td>Not Available</td>\n",
       "      <td>1</td>\n",
       "      <td>0.148360</td>\n",
       "      <td>0.047058</td>\n",
       "      <td>0.223494</td>\n",
       "      <td>0.454960</td>\n",
       "    </tr>\n",
       "    <tr>\n",
       "      <th>2</th>\n",
       "      <td>99.606562</td>\n",
       "      <td>NaN</td>\n",
       "      <td>Yes</td>\n",
       "      <td>Available</td>\n",
       "      <td>1</td>\n",
       "      <td>0.172086</td>\n",
       "      <td>0.019448</td>\n",
       "      <td>0.705596</td>\n",
       "      <td>0.356179</td>\n",
       "    </tr>\n",
       "    <tr>\n",
       "      <th>3</th>\n",
       "      <td>82.495504</td>\n",
       "      <td>Male</td>\n",
       "      <td>Yes</td>\n",
       "      <td>Available</td>\n",
       "      <td>1</td>\n",
       "      <td>0.878769</td>\n",
       "      <td>0.188794</td>\n",
       "      <td>0.190809</td>\n",
       "      <td>0.947088</td>\n",
       "    </tr>\n",
       "    <tr>\n",
       "      <th>4</th>\n",
       "      <td>40.168096</td>\n",
       "      <td>Male</td>\n",
       "      <td>No</td>\n",
       "      <td>NaN</td>\n",
       "      <td>1</td>\n",
       "      <td>0.558352</td>\n",
       "      <td>0.414408</td>\n",
       "      <td>0.552842</td>\n",
       "      <td>0.602909</td>\n",
       "    </tr>\n",
       "  </tbody>\n",
       "</table>\n",
       "</div>"
      ],
      "text/plain": [
       "         Age Gender PreExistingConditions VaccineAvailability  Vaccinated  \\\n",
       "0  50.767845   Male                    No           Available           1   \n",
       "1  33.869180   Male                    No       Not Available           1   \n",
       "2  99.606562    NaN                   Yes           Available           1   \n",
       "3  82.495504   Male                   Yes           Available           1   \n",
       "4  40.168096   Male                    No                 NaN           1   \n",
       "\n",
       "   Vaccined Factor  Vaccined Factor_2  Vaccined Factor_3  Vaccined Factor_4  \n",
       "0         0.592771           0.079213           0.477877           0.602102  \n",
       "1         0.148360           0.047058           0.223494           0.454960  \n",
       "2         0.172086           0.019448           0.705596           0.356179  \n",
       "3         0.878769           0.188794           0.190809           0.947088  \n",
       "4         0.558352           0.414408           0.552842           0.602909  "
      ]
     },
     "execution_count": 2,
     "metadata": {},
     "output_type": "execute_result"
    }
   ],
   "source": [
    "df = pd.read_csv(r\"C:\\\\Users\\\\Krishna Baraskar\\\\Downloads\\\\vaccine dataset1 - vaccine dataset1.csv\")\n",
    "df.head()"
   ]
  },
  {
   "cell_type": "code",
   "execution_count": 3,
   "metadata": {},
   "outputs": [
    {
     "data": {
      "text/html": [
       "<div>\n",
       "<style scoped>\n",
       "    .dataframe tbody tr th:only-of-type {\n",
       "        vertical-align: middle;\n",
       "    }\n",
       "\n",
       "    .dataframe tbody tr th {\n",
       "        vertical-align: top;\n",
       "    }\n",
       "\n",
       "    .dataframe thead th {\n",
       "        text-align: right;\n",
       "    }\n",
       "</style>\n",
       "<table border=\"1\" class=\"dataframe\">\n",
       "  <thead>\n",
       "    <tr style=\"text-align: right;\">\n",
       "      <th></th>\n",
       "      <th>Age</th>\n",
       "      <th>Gender</th>\n",
       "      <th>PreExistingConditions</th>\n",
       "      <th>VaccineAvailability</th>\n",
       "      <th>Vaccinated</th>\n",
       "      <th>Vaccined Factor</th>\n",
       "      <th>Vaccined Factor_2</th>\n",
       "      <th>Vaccined Factor_3</th>\n",
       "      <th>Vaccined Factor_4</th>\n",
       "    </tr>\n",
       "  </thead>\n",
       "  <tbody>\n",
       "    <tr>\n",
       "      <th>995</th>\n",
       "      <td>20.817467</td>\n",
       "      <td>Female</td>\n",
       "      <td>Yes</td>\n",
       "      <td>Available</td>\n",
       "      <td>1</td>\n",
       "      <td>0.521551</td>\n",
       "      <td>0.535465</td>\n",
       "      <td>0.508876</td>\n",
       "      <td>0.679675</td>\n",
       "    </tr>\n",
       "    <tr>\n",
       "      <th>996</th>\n",
       "      <td>44.816614</td>\n",
       "      <td>Female</td>\n",
       "      <td>No</td>\n",
       "      <td>Available</td>\n",
       "      <td>0</td>\n",
       "      <td>0.124647</td>\n",
       "      <td>0.085144</td>\n",
       "      <td>0.464871</td>\n",
       "      <td>0.351220</td>\n",
       "    </tr>\n",
       "    <tr>\n",
       "      <th>997</th>\n",
       "      <td>-999.000000</td>\n",
       "      <td>Unknown</td>\n",
       "      <td>Maybe</td>\n",
       "      <td>Available</td>\n",
       "      <td>1</td>\n",
       "      <td>0.961415</td>\n",
       "      <td>0.302945</td>\n",
       "      <td>0.951580</td>\n",
       "      <td>0.313879</td>\n",
       "    </tr>\n",
       "    <tr>\n",
       "      <th>998</th>\n",
       "      <td>60.858600</td>\n",
       "      <td>Male</td>\n",
       "      <td>Yes</td>\n",
       "      <td>Available</td>\n",
       "      <td>1</td>\n",
       "      <td>0.635911</td>\n",
       "      <td>0.744597</td>\n",
       "      <td>0.944835</td>\n",
       "      <td>0.684210</td>\n",
       "    </tr>\n",
       "    <tr>\n",
       "      <th>999</th>\n",
       "      <td>102.046618</td>\n",
       "      <td>Male</td>\n",
       "      <td>Yes</td>\n",
       "      <td>Available</td>\n",
       "      <td>0</td>\n",
       "      <td>0.765868</td>\n",
       "      <td>0.964432</td>\n",
       "      <td>0.779609</td>\n",
       "      <td>0.215543</td>\n",
       "    </tr>\n",
       "  </tbody>\n",
       "</table>\n",
       "</div>"
      ],
      "text/plain": [
       "            Age   Gender PreExistingConditions VaccineAvailability  \\\n",
       "995   20.817467   Female                   Yes           Available   \n",
       "996   44.816614   Female                    No           Available   \n",
       "997 -999.000000  Unknown                 Maybe           Available   \n",
       "998   60.858600     Male                   Yes           Available   \n",
       "999  102.046618     Male                   Yes           Available   \n",
       "\n",
       "     Vaccinated  Vaccined Factor  Vaccined Factor_2  Vaccined Factor_3  \\\n",
       "995           1         0.521551           0.535465           0.508876   \n",
       "996           0         0.124647           0.085144           0.464871   \n",
       "997           1         0.961415           0.302945           0.951580   \n",
       "998           1         0.635911           0.744597           0.944835   \n",
       "999           0         0.765868           0.964432           0.779609   \n",
       "\n",
       "     Vaccined Factor_4  \n",
       "995           0.679675  \n",
       "996           0.351220  \n",
       "997           0.313879  \n",
       "998           0.684210  \n",
       "999           0.215543  "
      ]
     },
     "execution_count": 3,
     "metadata": {},
     "output_type": "execute_result"
    }
   ],
   "source": [
    "df.tail()"
   ]
  },
  {
   "cell_type": "code",
   "execution_count": 4,
   "metadata": {},
   "outputs": [
    {
     "name": "stdout",
     "output_type": "stream",
     "text": [
      "<class 'pandas.core.frame.DataFrame'>\n",
      "RangeIndex: 1000 entries, 0 to 999\n",
      "Data columns (total 9 columns):\n",
      " #   Column                 Non-Null Count  Dtype  \n",
      "---  ------                 --------------  -----  \n",
      " 0   Age                    861 non-null    float64\n",
      " 1   Gender                 855 non-null    object \n",
      " 2   PreExistingConditions  903 non-null    object \n",
      " 3   VaccineAvailability    900 non-null    object \n",
      " 4   Vaccinated             1000 non-null   int64  \n",
      " 5   Vaccined Factor        1000 non-null   float64\n",
      " 6   Vaccined Factor_2      1000 non-null   float64\n",
      " 7   Vaccined Factor_3      1000 non-null   float64\n",
      " 8   Vaccined Factor_4      1000 non-null   float64\n",
      "dtypes: float64(5), int64(1), object(3)\n",
      "memory usage: 70.4+ KB\n"
     ]
    }
   ],
   "source": [
    "df.info()"
   ]
  },
  {
   "cell_type": "code",
   "execution_count": 5,
   "metadata": {},
   "outputs": [
    {
     "data": {
      "text/plain": [
       "Age                      139\n",
       "Gender                   145\n",
       "PreExistingConditions     97\n",
       "VaccineAvailability      100\n",
       "Vaccinated                 0\n",
       "Vaccined Factor            0\n",
       "Vaccined Factor_2          0\n",
       "Vaccined Factor_3          0\n",
       "Vaccined Factor_4          0\n",
       "dtype: int64"
      ]
     },
     "execution_count": 5,
     "metadata": {},
     "output_type": "execute_result"
    }
   ],
   "source": [
    "df.isnull().sum()"
   ]
  },
  {
   "cell_type": "code",
   "execution_count": 6,
   "metadata": {},
   "outputs": [],
   "source": [
    "df = df.drop(columns=[\"Vaccined Factor\",\"Vaccined Factor_2\",\"Vaccined Factor_3\",\"Vaccined Factor_4\"])"
   ]
  },
  {
   "cell_type": "code",
   "execution_count": 7,
   "metadata": {},
   "outputs": [],
   "source": [
    "# df.dropna(inplace=True)"
   ]
  },
  {
   "cell_type": "code",
   "execution_count": 8,
   "metadata": {},
   "outputs": [
    {
     "name": "stderr",
     "output_type": "stream",
     "text": [
      "C:\\Users\\Krishna Baraskar\\AppData\\Local\\Temp\\ipykernel_26408\\1475370659.py:1: FutureWarning: DataFrame.fillna with 'method' is deprecated and will raise in a future version. Use obj.ffill() or obj.bfill() instead.\n",
      "  df.fillna(method='ffill',axis=0,inplace=True)\n"
     ]
    }
   ],
   "source": [
    "df.fillna(method='ffill',axis=0,inplace=True)"
   ]
  },
  {
   "cell_type": "code",
   "execution_count": 9,
   "metadata": {},
   "outputs": [
    {
     "data": {
      "image/png": "[encoded data removed]",
      "text/plain": [
       "<Figure size 640x480 with 1 Axes>"
      ]
     },
     "metadata": {},
     "output_type": "display_data"
    }
   ],
   "source": [
    "import seaborn as sb\n",
    "import matplotlib.pyplot as plt\n",
    "sb.boxplot(y= \"Age\",data = df)\n",
    "plt.show()"
   ]
  },
  {
   "cell_type": "code",
   "execution_count": 10,
   "metadata": {},
   "outputs": [],
   "source": [
    "df = df[(df[\"Age\"] > 0.5) & (df[\"Age\"] < 101)]"
   ]
  },
  {
   "cell_type": "code",
   "execution_count": 11,
   "metadata": {},
   "outputs": [
    {
     "data": {
      "image/png": "[encoded data removed]",
      "text/plain": [
       "<Figure size 640x480 with 1 Axes>"
      ]
     },
     "metadata": {},
     "output_type": "display_data"
    }
   ],
   "source": [
    "sb.stripplot(y= \"Age\",data = df)\n",
    "plt.show()"
   ]
  },
  {
   "cell_type": "code",
   "execution_count": 12,
   "metadata": {},
   "outputs": [
    {
     "name": "stdout",
     "output_type": "stream",
     "text": [
      "<class 'pandas.core.frame.DataFrame'>\n",
      "Index: 929 entries, 0 to 998\n",
      "Data columns (total 5 columns):\n",
      " #   Column                 Non-Null Count  Dtype  \n",
      "---  ------                 --------------  -----  \n",
      " 0   Age                    929 non-null    float64\n",
      " 1   Gender                 929 non-null    object \n",
      " 2   PreExistingConditions  929 non-null    object \n",
      " 3   VaccineAvailability    929 non-null    object \n",
      " 4   Vaccinated             929 non-null    int64  \n",
      "dtypes: float64(1), int64(1), object(3)\n",
      "memory usage: 43.5+ KB\n"
     ]
    }
   ],
   "source": [
    "df.info()"
   ]
  },
  {
   "cell_type": "code",
   "execution_count": 13,
   "metadata": {},
   "outputs": [],
   "source": [
    "# df[\"Vaccined Factor\"] = df[\"Vaccined Factor\"].map(\"{:.2f}\".format)\n",
    "# df[\"Vaccined Factor_2\"] = df[\"Vaccined Factor_2\"].map(\"{:.2f}\".format)\n",
    "# df[\"Vaccined Factor_3\"] = df[\"Vaccined Factor_3\"].map(\"{:.2f}\".format)\n",
    "# df[\"Vaccined Factor_4\"] = df[\"Vaccined Factor_4\"].map(\"{:.2f}\".format)"
   ]
  },
  {
   "cell_type": "code",
   "execution_count": 14,
   "metadata": {},
   "outputs": [],
   "source": [
    "# df.info()"
   ]
  },
  {
   "cell_type": "code",
   "execution_count": 15,
   "metadata": {},
   "outputs": [],
   "source": [
    "# df[\"Vaccined Factor\"] = df[\"Vaccined Factor\"].astype(float)\n",
    "# df[\"Vaccined Factor_2\"] = df[\"Vaccined Factor_2\"].astype(float)\n",
    "# df[\"Vaccined Factor_3\"] = df[\"Vaccined Factor_3\"].astype(float)\n",
    "# df[\"Vaccined Factor_4\"] = df[\"Vaccined Factor_4\"].astype(float)"
   ]
  },
  {
   "cell_type": "code",
   "execution_count": 16,
   "metadata": {},
   "outputs": [],
   "source": [
    "df[\"Age\"] = df[\"Age\"].astype(int)"
   ]
  },
  {
   "cell_type": "code",
   "execution_count": 17,
   "metadata": {},
   "outputs": [
    {
     "data": {
      "text/html": [
       "<div>\n",
       "<style scoped>\n",
       "    .dataframe tbody tr th:only-of-type {\n",
       "        vertical-align: middle;\n",
       "    }\n",
       "\n",
       "    .dataframe tbody tr th {\n",
       "        vertical-align: top;\n",
       "    }\n",
       "\n",
       "    .dataframe thead th {\n",
       "        text-align: right;\n",
       "    }\n",
       "</style>\n",
       "<table border=\"1\" class=\"dataframe\">\n",
       "  <thead>\n",
       "    <tr style=\"text-align: right;\">\n",
       "      <th></th>\n",
       "      <th>Age</th>\n",
       "      <th>Gender</th>\n",
       "      <th>PreExistingConditions</th>\n",
       "      <th>VaccineAvailability</th>\n",
       "      <th>Vaccinated</th>\n",
       "    </tr>\n",
       "  </thead>\n",
       "  <tbody>\n",
       "    <tr>\n",
       "      <th>0</th>\n",
       "      <td>50</td>\n",
       "      <td>Male</td>\n",
       "      <td>No</td>\n",
       "      <td>Available</td>\n",
       "      <td>1</td>\n",
       "    </tr>\n",
       "    <tr>\n",
       "      <th>1</th>\n",
       "      <td>33</td>\n",
       "      <td>Male</td>\n",
       "      <td>No</td>\n",
       "      <td>Not Available</td>\n",
       "      <td>1</td>\n",
       "    </tr>\n",
       "    <tr>\n",
       "      <th>2</th>\n",
       "      <td>99</td>\n",
       "      <td>Male</td>\n",
       "      <td>Yes</td>\n",
       "      <td>Available</td>\n",
       "      <td>1</td>\n",
       "    </tr>\n",
       "    <tr>\n",
       "      <th>3</th>\n",
       "      <td>82</td>\n",
       "      <td>Male</td>\n",
       "      <td>Yes</td>\n",
       "      <td>Available</td>\n",
       "      <td>1</td>\n",
       "    </tr>\n",
       "    <tr>\n",
       "      <th>4</th>\n",
       "      <td>40</td>\n",
       "      <td>Male</td>\n",
       "      <td>No</td>\n",
       "      <td>Available</td>\n",
       "      <td>1</td>\n",
       "    </tr>\n",
       "  </tbody>\n",
       "</table>\n",
       "</div>"
      ],
      "text/plain": [
       "   Age Gender PreExistingConditions VaccineAvailability  Vaccinated\n",
       "0   50   Male                    No           Available           1\n",
       "1   33   Male                    No       Not Available           1\n",
       "2   99   Male                   Yes           Available           1\n",
       "3   82   Male                   Yes           Available           1\n",
       "4   40   Male                    No           Available           1"
      ]
     },
     "execution_count": 17,
     "metadata": {},
     "output_type": "execute_result"
    }
   ],
   "source": [
    "df.head()"
   ]
  },
  {
   "cell_type": "code",
   "execution_count": 18,
   "metadata": {},
   "outputs": [],
   "source": [
    "# df = df[(df[\"Age\"] > 0) & (df[\"Age\"] < 101)]"
   ]
  },
  {
   "cell_type": "code",
   "execution_count": 19,
   "metadata": {},
   "outputs": [
    {
     "name": "stdout",
     "output_type": "stream",
     "text": [
      "<class 'pandas.core.frame.DataFrame'>\n",
      "Index: 929 entries, 0 to 998\n",
      "Data columns (total 5 columns):\n",
      " #   Column                 Non-Null Count  Dtype \n",
      "---  ------                 --------------  ----- \n",
      " 0   Age                    929 non-null    int32 \n",
      " 1   Gender                 929 non-null    object\n",
      " 2   PreExistingConditions  929 non-null    object\n",
      " 3   VaccineAvailability    929 non-null    object\n",
      " 4   Vaccinated             929 non-null    int64 \n",
      "dtypes: int32(1), int64(1), object(3)\n",
      "memory usage: 39.9+ KB\n"
     ]
    }
   ],
   "source": [
    "df.info()"
   ]
  },
  {
   "cell_type": "code",
   "execution_count": 20,
   "metadata": {},
   "outputs": [
    {
     "data": {
      "text/html": [
       "<div>\n",
       "<style scoped>\n",
       "    .dataframe tbody tr th:only-of-type {\n",
       "        vertical-align: middle;\n",
       "    }\n",
       "\n",
       "    .dataframe tbody tr th {\n",
       "        vertical-align: top;\n",
       "    }\n",
       "\n",
       "    .dataframe thead th {\n",
       "        text-align: right;\n",
       "    }\n",
       "</style>\n",
       "<table border=\"1\" class=\"dataframe\">\n",
       "  <thead>\n",
       "    <tr style=\"text-align: right;\">\n",
       "      <th></th>\n",
       "      <th>Gender</th>\n",
       "      <th>PreExistingConditions</th>\n",
       "      <th>VaccineAvailability</th>\n",
       "    </tr>\n",
       "  </thead>\n",
       "  <tbody>\n",
       "    <tr>\n",
       "      <th>count</th>\n",
       "      <td>929</td>\n",
       "      <td>929</td>\n",
       "      <td>929</td>\n",
       "    </tr>\n",
       "    <tr>\n",
       "      <th>unique</th>\n",
       "      <td>3</td>\n",
       "      <td>3</td>\n",
       "      <td>2</td>\n",
       "    </tr>\n",
       "    <tr>\n",
       "      <th>top</th>\n",
       "      <td>Female</td>\n",
       "      <td>No</td>\n",
       "      <td>Not Available</td>\n",
       "    </tr>\n",
       "    <tr>\n",
       "      <th>freq</th>\n",
       "      <td>466</td>\n",
       "      <td>475</td>\n",
       "      <td>467</td>\n",
       "    </tr>\n",
       "  </tbody>\n",
       "</table>\n",
       "</div>"
      ],
      "text/plain": [
       "        Gender PreExistingConditions VaccineAvailability\n",
       "count      929                   929                 929\n",
       "unique       3                     3                   2\n",
       "top     Female                    No       Not Available\n",
       "freq       466                   475                 467"
      ]
     },
     "execution_count": 20,
     "metadata": {},
     "output_type": "execute_result"
    }
   ],
   "source": [
    "df.describe(include=\"object\")"
   ]
  },
  {
   "cell_type": "code",
   "execution_count": 21,
   "metadata": {},
   "outputs": [
    {
     "data": {
      "text/plain": [
       "243"
      ]
     },
     "execution_count": 21,
     "metadata": {},
     "output_type": "execute_result"
    }
   ],
   "source": [
    "df.duplicated().sum()           # beacuse of binomial catorigial data it contains multiple duplicated values & not any uniquely identified columns data"
   ]
  },
  {
   "cell_type": "code",
   "execution_count": 22,
   "metadata": {},
   "outputs": [],
   "source": [
    "# df.drop_duplicates(inplace=True)"
   ]
  },
  {
   "cell_type": "code",
   "execution_count": 23,
   "metadata": {},
   "outputs": [],
   "source": [
    "df.replace(to_replace=[\"Male\"],value=1,inplace=True)\n",
    "df.replace(to_replace=[\"Female\"],value=0,inplace=True)"
   ]
  },
  {
   "cell_type": "code",
   "execution_count": 24,
   "metadata": {},
   "outputs": [
    {
     "name": "stderr",
     "output_type": "stream",
     "text": [
      "C:\\Users\\Krishna Baraskar\\AppData\\Local\\Temp\\ipykernel_26408\\2260586663.py:2: FutureWarning: Downcasting behavior in `replace` is deprecated and will be removed in a future version. To retain the old behavior, explicitly call `result.infer_objects(copy=False)`. To opt-in to the future behavior, set `pd.set_option('future.no_silent_downcasting', True)`\n",
      "  df.replace(to_replace=[\"Not Available\"],value=5,inplace=True)\n"
     ]
    }
   ],
   "source": [
    "df.replace(to_replace=[\"Available\"],value=10,inplace=True)\n",
    "df.replace(to_replace=[\"Not Available\"],value=5,inplace=True)"
   ]
  },
  {
   "cell_type": "code",
   "execution_count": 25,
   "metadata": {},
   "outputs": [],
   "source": [
    "df.replace(to_replace=[\"Yes\"],value=100,inplace=True)\n",
    "df.replace(to_replace=[\"No\"],value=50,inplace=True)"
   ]
  },
  {
   "cell_type": "code",
   "execution_count": 26,
   "metadata": {},
   "outputs": [
    {
     "name": "stderr",
     "output_type": "stream",
     "text": [
      "C:\\Users\\Krishna Baraskar\\AppData\\Local\\Temp\\ipykernel_26408\\547144922.py:1: FutureWarning: A value is trying to be set on a copy of a DataFrame or Series through chained assignment using an inplace method.\n",
      "The behavior will change in pandas 3.0. This inplace method will never work because the intermediate object on which we are setting values always behaves as a copy.\n",
      "\n",
      "For example, when doing 'df[col].method(value, inplace=True)', try using 'df.method({col: value}, inplace=True)' or df[col] = df[col].method(value) instead, to perform the operation inplace on the original object.\n",
      "\n",
      "\n",
      "  df[\"Vaccinated\"].replace(to_replace=1,value=1000,inplace=True)\n",
      "C:\\Users\\Krishna Baraskar\\AppData\\Local\\Temp\\ipykernel_26408\\547144922.py:2: FutureWarning: A value is trying to be set on a copy of a DataFrame or Series through chained assignment using an inplace method.\n",
      "The behavior will change in pandas 3.0. This inplace method will never work because the intermediate object on which we are setting values always behaves as a copy.\n",
      "\n",
      "For example, when doing 'df[col].method(value, inplace=True)', try using 'df.method({col: value}, inplace=True)' or df[col] = df[col].method(value) instead, to perform the operation inplace on the original object.\n",
      "\n",
      "\n",
      "  df[\"Vaccinated\"].replace(to_replace=0,value=500,inplace=True)\n"
     ]
    }
   ],
   "source": [
    "df[\"Vaccinated\"].replace(to_replace=1,value=1000,inplace=True)\n",
    "df[\"Vaccinated\"].replace(to_replace=0,value=500,inplace=True)"
   ]
  },
  {
   "cell_type": "code",
   "execution_count": 27,
   "metadata": {},
   "outputs": [],
   "source": [
    "# df.describe(include=\"object\")"
   ]
  },
  {
   "cell_type": "code",
   "execution_count": 28,
   "metadata": {},
   "outputs": [],
   "source": [
    "df = df.apply(lambda col: pd.to_numeric(col, errors='coerce'))"
   ]
  },
  {
   "cell_type": "code",
   "execution_count": 29,
   "metadata": {},
   "outputs": [
    {
     "name": "stderr",
     "output_type": "stream",
     "text": [
      "C:\\Users\\Krishna Baraskar\\AppData\\Local\\Temp\\ipykernel_26408\\1475370659.py:1: FutureWarning: DataFrame.fillna with 'method' is deprecated and will raise in a future version. Use obj.ffill() or obj.bfill() instead.\n",
      "  df.fillna(method='ffill',axis=0,inplace=True)\n"
     ]
    }
   ],
   "source": [
    "df.fillna(method='ffill',axis=0,inplace=True)"
   ]
  },
  {
   "cell_type": "code",
   "execution_count": 30,
   "metadata": {},
   "outputs": [],
   "source": [
    "df[\"Gender\"] = df[\"Gender\"].astype(int)\n",
    "df[\"PreExistingConditions\"] = df[\"PreExistingConditions\"].astype(int)\n",
    "df[\"VaccineAvailability\"] = df[\"VaccineAvailability\"].astype(int)"
   ]
  },
  {
   "cell_type": "code",
   "execution_count": 31,
   "metadata": {},
   "outputs": [
    {
     "data": {
      "text/html": [
       "<div>\n",
       "<style scoped>\n",
       "    .dataframe tbody tr th:only-of-type {\n",
       "        vertical-align: middle;\n",
       "    }\n",
       "\n",
       "    .dataframe tbody tr th {\n",
       "        vertical-align: top;\n",
       "    }\n",
       "\n",
       "    .dataframe thead th {\n",
       "        text-align: right;\n",
       "    }\n",
       "</style>\n",
       "<table border=\"1\" class=\"dataframe\">\n",
       "  <thead>\n",
       "    <tr style=\"text-align: right;\">\n",
       "      <th></th>\n",
       "      <th>Age</th>\n",
       "      <th>Gender</th>\n",
       "      <th>PreExistingConditions</th>\n",
       "      <th>VaccineAvailability</th>\n",
       "      <th>Vaccinated</th>\n",
       "    </tr>\n",
       "  </thead>\n",
       "  <tbody>\n",
       "    <tr>\n",
       "      <th>0</th>\n",
       "      <td>50</td>\n",
       "      <td>1</td>\n",
       "      <td>50</td>\n",
       "      <td>10</td>\n",
       "      <td>1000</td>\n",
       "    </tr>\n",
       "    <tr>\n",
       "      <th>1</th>\n",
       "      <td>33</td>\n",
       "      <td>1</td>\n",
       "      <td>50</td>\n",
       "      <td>5</td>\n",
       "      <td>1000</td>\n",
       "    </tr>\n",
       "    <tr>\n",
       "      <th>2</th>\n",
       "      <td>99</td>\n",
       "      <td>1</td>\n",
       "      <td>100</td>\n",
       "      <td>10</td>\n",
       "      <td>1000</td>\n",
       "    </tr>\n",
       "    <tr>\n",
       "      <th>3</th>\n",
       "      <td>82</td>\n",
       "      <td>1</td>\n",
       "      <td>100</td>\n",
       "      <td>10</td>\n",
       "      <td>1000</td>\n",
       "    </tr>\n",
       "    <tr>\n",
       "      <th>4</th>\n",
       "      <td>40</td>\n",
       "      <td>1</td>\n",
       "      <td>50</td>\n",
       "      <td>10</td>\n",
       "      <td>1000</td>\n",
       "    </tr>\n",
       "  </tbody>\n",
       "</table>\n",
       "</div>"
      ],
      "text/plain": [
       "   Age  Gender  PreExistingConditions  VaccineAvailability  Vaccinated\n",
       "0   50       1                     50                   10        1000\n",
       "1   33       1                     50                    5        1000\n",
       "2   99       1                    100                   10        1000\n",
       "3   82       1                    100                   10        1000\n",
       "4   40       1                     50                   10        1000"
      ]
     },
     "execution_count": 31,
     "metadata": {},
     "output_type": "execute_result"
    }
   ],
   "source": [
    "df.head()"
   ]
  },
  {
   "cell_type": "code",
   "execution_count": 32,
   "metadata": {},
   "outputs": [
    {
     "name": "stdout",
     "output_type": "stream",
     "text": [
      "<class 'pandas.core.frame.DataFrame'>\n",
      "Index: 929 entries, 0 to 998\n",
      "Data columns (total 5 columns):\n",
      " #   Column                 Non-Null Count  Dtype\n",
      "---  ------                 --------------  -----\n",
      " 0   Age                    929 non-null    int32\n",
      " 1   Gender                 929 non-null    int32\n",
      " 2   PreExistingConditions  929 non-null    int32\n",
      " 3   VaccineAvailability    929 non-null    int32\n",
      " 4   Vaccinated             929 non-null    int64\n",
      "dtypes: int32(4), int64(1)\n",
      "memory usage: 29.0 KB\n"
     ]
    }
   ],
   "source": [
    "df.info()"
   ]
  },
  {
   "cell_type": "code",
   "execution_count": 33,
   "metadata": {},
   "outputs": [
    {
     "data": {
      "text/html": [
       "<div>\n",
       "<style scoped>\n",
       "    .dataframe tbody tr th:only-of-type {\n",
       "        vertical-align: middle;\n",
       "    }\n",
       "\n",
       "    .dataframe tbody tr th {\n",
       "        vertical-align: top;\n",
       "    }\n",
       "\n",
       "    .dataframe thead th {\n",
       "        text-align: right;\n",
       "    }\n",
       "</style>\n",
       "<table border=\"1\" class=\"dataframe\">\n",
       "  <thead>\n",
       "    <tr style=\"text-align: right;\">\n",
       "      <th></th>\n",
       "      <th>Age</th>\n",
       "      <th>Gender</th>\n",
       "      <th>PreExistingConditions</th>\n",
       "      <th>VaccineAvailability</th>\n",
       "      <th>Vaccinated</th>\n",
       "    </tr>\n",
       "  </thead>\n",
       "  <tbody>\n",
       "    <tr>\n",
       "      <th>count</th>\n",
       "      <td>929.000000</td>\n",
       "      <td>929.000000</td>\n",
       "      <td>929.000000</td>\n",
       "      <td>929.000000</td>\n",
       "      <td>929.000000</td>\n",
       "    </tr>\n",
       "    <tr>\n",
       "      <th>mean</th>\n",
       "      <td>52.677072</td>\n",
       "      <td>0.491927</td>\n",
       "      <td>74.327234</td>\n",
       "      <td>7.486545</td>\n",
       "      <td>763.186222</td>\n",
       "    </tr>\n",
       "    <tr>\n",
       "      <th>std</th>\n",
       "      <td>24.087554</td>\n",
       "      <td>0.500204</td>\n",
       "      <td>25.004407</td>\n",
       "      <td>2.501310</td>\n",
       "      <td>249.786479</td>\n",
       "    </tr>\n",
       "    <tr>\n",
       "      <th>min</th>\n",
       "      <td>0.000000</td>\n",
       "      <td>0.000000</td>\n",
       "      <td>50.000000</td>\n",
       "      <td>5.000000</td>\n",
       "      <td>500.000000</td>\n",
       "    </tr>\n",
       "    <tr>\n",
       "      <th>25%</th>\n",
       "      <td>34.000000</td>\n",
       "      <td>0.000000</td>\n",
       "      <td>50.000000</td>\n",
       "      <td>5.000000</td>\n",
       "      <td>500.000000</td>\n",
       "    </tr>\n",
       "    <tr>\n",
       "      <th>50%</th>\n",
       "      <td>53.000000</td>\n",
       "      <td>0.000000</td>\n",
       "      <td>50.000000</td>\n",
       "      <td>5.000000</td>\n",
       "      <td>1000.000000</td>\n",
       "    </tr>\n",
       "    <tr>\n",
       "      <th>75%</th>\n",
       "      <td>72.000000</td>\n",
       "      <td>1.000000</td>\n",
       "      <td>100.000000</td>\n",
       "      <td>10.000000</td>\n",
       "      <td>1000.000000</td>\n",
       "    </tr>\n",
       "    <tr>\n",
       "      <th>max</th>\n",
       "      <td>100.000000</td>\n",
       "      <td>1.000000</td>\n",
       "      <td>100.000000</td>\n",
       "      <td>10.000000</td>\n",
       "      <td>1000.000000</td>\n",
       "    </tr>\n",
       "  </tbody>\n",
       "</table>\n",
       "</div>"
      ],
      "text/plain": [
       "              Age      Gender  PreExistingConditions  VaccineAvailability  \\\n",
       "count  929.000000  929.000000             929.000000           929.000000   \n",
       "mean    52.677072    0.491927              74.327234             7.486545   \n",
       "std     24.087554    0.500204              25.004407             2.501310   \n",
       "min      0.000000    0.000000              50.000000             5.000000   \n",
       "25%     34.000000    0.000000              50.000000             5.000000   \n",
       "50%     53.000000    0.000000              50.000000             5.000000   \n",
       "75%     72.000000    1.000000             100.000000            10.000000   \n",
       "max    100.000000    1.000000             100.000000            10.000000   \n",
       "\n",
       "        Vaccinated  \n",
       "count   929.000000  \n",
       "mean    763.186222  \n",
       "std     249.786479  \n",
       "min     500.000000  \n",
       "25%     500.000000  \n",
       "50%    1000.000000  \n",
       "75%    1000.000000  \n",
       "max    1000.000000  "
      ]
     },
     "execution_count": 33,
     "metadata": {},
     "output_type": "execute_result"
    }
   ],
   "source": [
    "df.describe()"
   ]
  },
  {
   "cell_type": "code",
   "execution_count": 34,
   "metadata": {},
   "outputs": [
    {
     "data": {
      "text/html": [
       "<div>\n",
       "<style scoped>\n",
       "    .dataframe tbody tr th:only-of-type {\n",
       "        vertical-align: middle;\n",
       "    }\n",
       "\n",
       "    .dataframe tbody tr th {\n",
       "        vertical-align: top;\n",
       "    }\n",
       "\n",
       "    .dataframe thead th {\n",
       "        text-align: right;\n",
       "    }\n",
       "</style>\n",
       "<table border=\"1\" class=\"dataframe\">\n",
       "  <thead>\n",
       "    <tr style=\"text-align: right;\">\n",
       "      <th></th>\n",
       "      <th>Age</th>\n",
       "      <th>Gender</th>\n",
       "      <th>PreExistingConditions</th>\n",
       "      <th>VaccineAvailability</th>\n",
       "      <th>Vaccinated</th>\n",
       "    </tr>\n",
       "  </thead>\n",
       "  <tbody>\n",
       "    <tr>\n",
       "      <th>Age</th>\n",
       "      <td>1.000000</td>\n",
       "      <td>-0.007014</td>\n",
       "      <td>0.040968</td>\n",
       "      <td>0.030154</td>\n",
       "      <td>-0.016306</td>\n",
       "    </tr>\n",
       "    <tr>\n",
       "      <th>Gender</th>\n",
       "      <td>-0.007014</td>\n",
       "      <td>1.000000</td>\n",
       "      <td>0.076029</td>\n",
       "      <td>-0.001163</td>\n",
       "      <td>-0.036879</td>\n",
       "    </tr>\n",
       "    <tr>\n",
       "      <th>PreExistingConditions</th>\n",
       "      <td>0.040968</td>\n",
       "      <td>0.076029</td>\n",
       "      <td>1.000000</td>\n",
       "      <td>0.009547</td>\n",
       "      <td>-0.016910</td>\n",
       "    </tr>\n",
       "    <tr>\n",
       "      <th>VaccineAvailability</th>\n",
       "      <td>0.030154</td>\n",
       "      <td>-0.001163</td>\n",
       "      <td>0.009547</td>\n",
       "      <td>1.000000</td>\n",
       "      <td>0.007830</td>\n",
       "    </tr>\n",
       "    <tr>\n",
       "      <th>Vaccinated</th>\n",
       "      <td>-0.016306</td>\n",
       "      <td>-0.036879</td>\n",
       "      <td>-0.016910</td>\n",
       "      <td>0.007830</td>\n",
       "      <td>1.000000</td>\n",
       "    </tr>\n",
       "  </tbody>\n",
       "</table>\n",
       "</div>"
      ],
      "text/plain": [
       "                            Age    Gender  PreExistingConditions  \\\n",
       "Age                    1.000000 -0.007014               0.040968   \n",
       "Gender                -0.007014  1.000000               0.076029   \n",
       "PreExistingConditions  0.040968  0.076029               1.000000   \n",
       "VaccineAvailability    0.030154 -0.001163               0.009547   \n",
       "Vaccinated            -0.016306 -0.036879              -0.016910   \n",
       "\n",
       "                       VaccineAvailability  Vaccinated  \n",
       "Age                               0.030154   -0.016306  \n",
       "Gender                           -0.001163   -0.036879  \n",
       "PreExistingConditions             0.009547   -0.016910  \n",
       "VaccineAvailability               1.000000    0.007830  \n",
       "Vaccinated                        0.007830    1.000000  "
      ]
     },
     "execution_count": 34,
     "metadata": {},
     "output_type": "execute_result"
    }
   ],
   "source": [
    "df.corr()"
   ]
  },
  {
   "cell_type": "code",
   "execution_count": 35,
   "metadata": {},
   "outputs": [],
   "source": [
    "# df[[\"Age\",\"PreExistingConditions\",\"VaccineAvailability\",\"Vaccinated\",\"Vaccined Factor\",\"Vaccined Factor_2\",\"Vaccined Factor_3\",\"Vaccined Factor_4\"]].corr()"
   ]
  },
  {
   "cell_type": "code",
   "execution_count": 36,
   "metadata": {},
   "outputs": [],
   "source": [
    "# df[\"Index\"] = np.arange(1,len(df)+1)"
   ]
  },
  {
   "cell_type": "code",
   "execution_count": 37,
   "metadata": {},
   "outputs": [],
   "source": [
    "# df = df.set_index(\"Index\")"
   ]
  },
  {
   "cell_type": "code",
   "execution_count": 38,
   "metadata": {},
   "outputs": [],
   "source": [
    "# df.head()"
   ]
  },
  {
   "cell_type": "code",
   "execution_count": 39,
   "metadata": {},
   "outputs": [],
   "source": [
    "# df.to_csv(\"C:\\\\Users\\\\Krishna Baraskar\\\\Downloads\\\\vaccine dataset4.csv\")"
   ]
  },
  {
   "cell_type": "code",
   "execution_count": null,
   "metadata": {},
   "outputs": [],
   "source": []
  }
 ],
 "metadata": {
  "kernelspec": {
   "display_name": "base",
   "language": "python",
   "name": "python3"
  },
  "language_info": {
   "codemirror_mode": {
    "name": "ipython",
    "version": 3
   },
   "file_extension": ".py",
   "mimetype": "text/x-python",
   "name": "python",
   "nbconvert_exporter": "python",
   "pygments_lexer": "ipython3",
   "version": "3.12.4"
  }
 },
 "nbformat": 4,
 "nbformat_minor": 2
}
